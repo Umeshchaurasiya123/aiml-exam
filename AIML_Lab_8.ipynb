{
 "cells": [
  {
   "cell_type": "markdown",
   "metadata": {},
   "source": [
    "Shivraj Naorem"
   ]
  },
  {
   "cell_type": "markdown",
   "metadata": {},
   "source": [
    "212010054"
   ]
  },
  {
   "cell_type": "markdown",
   "metadata": {},
   "source": [
    "Lab Expt 8: Write a program to construct a Bayesian network considering medical data. Use this model to demonstrate the diagnosis of heart patients using the standard Heart Disease Data Set. You can use Java/Python ML library classes/API"
   ]
  },
  {
   "cell_type": "code",
   "execution_count": 39,
   "metadata": {},
   "outputs": [],
   "source": [
    "import pandas as pd\n",
    "import numpy as np\n",
    "import matplotlib.pyplot as plt\n",
    "import seaborn as sns\n",
    "from sklearn.naive_bayes import GaussianNB\n",
    "from sklearn.metrics import accuracy_score\n",
    "from sklearn.model_selection import train_test_split\n",
    "import warnings\n",
    "warnings.filterwarnings('ignore')"
   ]
  },
  {
   "cell_type": "code",
   "execution_count": 40,
   "metadata": {},
   "outputs": [
    {
     "name": "stdout",
     "output_type": "stream",
     "text": [
      "   Age  Sex  Chest pain type   BP  Cholesterol  FBS over 120  EKG results  \\\n",
      "0   70    1                4  130          322             0            2   \n",
      "1   67    0                3  115          564             0            2   \n",
      "2   57    1                2  124          261             0            0   \n",
      "3   64    1                4  128          263             0            0   \n",
      "4   74    0                2  120          269             0            2   \n",
      "\n",
      "   Max HR  Exercise angina  ST depression  Slope of ST  \\\n",
      "0     109                0            2.4            2   \n",
      "1     160                0            1.6            2   \n",
      "2     141                0            0.3            1   \n",
      "3     105                1            0.2            2   \n",
      "4     121                1            0.2            1   \n",
      "\n",
      "   Number of vessels fluro  Thallium  Heart Disease  \n",
      "0                        3         3              1  \n",
      "1                        0         7              0  \n",
      "2                        0         7              1  \n",
      "3                        1         7              0  \n",
      "4                        1         3              0  \n",
      "Shape-> (270, 14)\n"
     ]
    }
   ],
   "source": [
    "data_df=pd.read_csv(\"C:/Users/Shivraj/Desktop/VJTI/Sem3/DL/Heart_Disease_Prediction.csv\")\n",
    "print(data_df.head())\n",
    "print(\"Shape->\",data_df.shape)\n"
   ]
  },
  {
   "cell_type": "code",
   "execution_count": 41,
   "metadata": {},
   "outputs": [
    {
     "data": {
      "text/plain": [
       "Age                        0\n",
       "Sex                        0\n",
       "Chest pain type            0\n",
       "BP                         0\n",
       "Cholesterol                0\n",
       "FBS over 120               0\n",
       "EKG results                0\n",
       "Max HR                     0\n",
       "Exercise angina            0\n",
       "ST depression              0\n",
       "Slope of ST                0\n",
       "Number of vessels fluro    0\n",
       "Thallium                   0\n",
       "Heart Disease              0\n",
       "dtype: int64"
      ]
     },
     "execution_count": 41,
     "metadata": {},
     "output_type": "execute_result"
    }
   ],
   "source": [
    "# checking for null values\n",
    "data_df.isnull().sum()"
   ]
  },
  {
   "cell_type": "code",
   "execution_count": 42,
   "metadata": {},
   "outputs": [
    {
     "name": "stdout",
     "output_type": "stream",
     "text": [
      "Accuracy-> 0.9074074074074074\n"
     ]
    }
   ],
   "source": [
    "nb = GaussianNB()\n",
    "# parameters\n",
    "x = data_df.iloc[:, 0:-1]\n",
    "# label\n",
    "y = data_df.iloc[:, -1]\n",
    "x_train, x_test, y_train, y_test = train_test_split(x, y, test_size=0.2,random_state=420)\n",
    "nb.fit(x_train, y_train)\n",
    "y_pred = nb.predict(x_test)\n",
    "print(\"Accuracy->\",accuracy_score(y_test, y_pred))"
   ]
  },
  {
   "cell_type": "code",
   "execution_count": 43,
   "metadata": {},
   "outputs": [
    {
     "name": "stdout",
     "output_type": "stream",
     "text": [
      "Low possibility of Heart Disease\n"
     ]
    }
   ],
   "source": [
    "input = [[67, 0, 3, 115, 564, 0, 2, 160, 0, 1.6, 2, 0, 7]]\n",
    "column_value = x_test.columns\n",
    "input_df = pd.DataFrame(input, columns=column_value)\n",
    "if nb.predict(input_df)[0]:\n",
    "    print(\"High possibility of Heart Disease\")\n",
    "else:\n",
    "    print(\"Low possibility of Heart Disease\")\n"
   ]
  }
 ],
 "metadata": {
  "kernelspec": {
   "display_name": "Python 3.10.3 64-bit",
   "language": "python",
   "name": "python3"
  },
  "language_info": {
   "codemirror_mode": {
    "name": "ipython",
    "version": 3
   },
   "file_extension": ".py",
   "mimetype": "text/x-python",
   "name": "python",
   "nbconvert_exporter": "python",
   "pygments_lexer": "ipython3",
   "version": "3.10.3"
  },
  "orig_nbformat": 4,
  "vscode": {
   "interpreter": {
    "hash": "f7fa14ff42d06b812b88d9213b0afdb81f274e147c03716f6716e2daf21f8d93"
   }
  }
 },
 "nbformat": 4,
 "nbformat_minor": 2
}
