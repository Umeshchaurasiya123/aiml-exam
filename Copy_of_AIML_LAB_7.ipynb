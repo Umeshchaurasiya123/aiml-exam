{
  "cells": [
    {
      "cell_type": "markdown",
      "metadata": {
        "id": "1g8b40CmIagD"
      },
      "source": [
        "Umesh Chaurasiya"
      ]
    },
    {
      "cell_type": "markdown",
      "metadata": {
        "id": "iL5NVmZkIagG"
      },
      "source": [
        "212010031"
      ]
    },
    {
      "cell_type": "markdown",
      "metadata": {
        "id": "CBn9n4tGIagG"
      },
      "source": [
        "Aim:  Write a program to implement the Naïve Bayesian classifier for a sample training data set stored\n",
        "as a .CSV file. Compute the accuracy of the classifier, considering few test data sets"
      ]
    },
    {
      "cell_type": "code",
      "execution_count": 1,
      "metadata": {
        "id": "tk_us9HRIagH"
      },
      "outputs": [],
      "source": [
        "import pandas as pd\n",
        "import numpy as np\n",
        "import matplotlib.pyplot as plt\n",
        "import seaborn as sns\n",
        "from sklearn.naive_bayes import GaussianNB\n",
        "from sklearn.metrics import accuracy_score\n",
        "from sklearn.model_selection import train_test_split\n",
        "import warnings\n",
        "warnings.filterwarnings('ignore')"
      ]
    },
    {
      "cell_type": "code",
      "execution_count": 2,
      "metadata": {
        "id": "WehPgtU2IagI",
        "outputId": "02f9375e-748f-4b4d-bb38-7a9e334258cc",
        "colab": {
          "base_uri": "https://localhost:8080/"
        }
      },
      "outputs": [
        {
          "output_type": "stream",
          "name": "stdout",
          "text": [
            "        RI     Na    Mg    Al     Si     K    Ca   Ba   Fe  Type\n",
            "0  1.52101  13.64  4.49  1.10  71.78  0.06  8.75  0.0  0.0     1\n",
            "1  1.51761  13.89  3.60  1.36  72.73  0.48  7.83  0.0  0.0     1\n",
            "2  1.51618  13.53  3.55  1.54  72.99  0.39  7.78  0.0  0.0     1\n",
            "3  1.51766  13.21  3.69  1.29  72.61  0.57  8.22  0.0  0.0     1\n",
            "4  1.51742  13.27  3.62  1.24  73.08  0.55  8.07  0.0  0.0     1\n",
            "Shape-> (214, 10)\n"
          ]
        }
      ],
      "source": [
        "glass_df=pd.read_csv(\"/content/glass - glass.csv\")\n",
        "print(glass_df.head())\n",
        "print(\"Shape->\",glass_df.shape)"
      ]
    },
    {
      "cell_type": "code",
      "execution_count": 3,
      "metadata": {
        "id": "FgPcyu-mIagJ",
        "outputId": "e5c3a1f5-1948-464b-d170-4a3dab6741ef",
        "colab": {
          "base_uri": "https://localhost:8080/"
        }
      },
      "outputs": [
        {
          "output_type": "execute_result",
          "data": {
            "text/plain": [
              "RI      0\n",
              "Na      0\n",
              "Mg      0\n",
              "Al      0\n",
              "Si      0\n",
              "K       0\n",
              "Ca      0\n",
              "Ba      0\n",
              "Fe      0\n",
              "Type    0\n",
              "dtype: int64"
            ]
          },
          "metadata": {},
          "execution_count": 3
        }
      ],
      "source": [
        "# checking for null values\n",
        "glass_df.isnull().sum()"
      ]
    },
    {
      "cell_type": "code",
      "execution_count": 4,
      "metadata": {
        "id": "_GQ3Kn3AIagK",
        "outputId": "11e2500a-9ae3-40d4-c163-934f966a3f8f",
        "colab": {
          "base_uri": "https://localhost:8080/"
        }
      },
      "outputs": [
        {
          "output_type": "stream",
          "name": "stdout",
          "text": [
            "0.4186046511627907\n"
          ]
        }
      ],
      "source": [
        "# Creating Naive Bayes Object\n",
        "nb = GaussianNB()\n",
        "\n",
        "# parameters\n",
        "x = glass_df.iloc[:, 0:-1]\n",
        "# label\n",
        "y = glass_df.iloc[:, -1]\n",
        "\n",
        "x_train, x_test, y_train, y_test = train_test_split(x, y, test_size=0.2, random_state=420)\n",
        "\n",
        "nb.fit(x_train, y_train)\n",
        "y_pred = nb.predict(x_test)\n",
        "\n",
        "print(accuracy_score(y_test, y_pred))"
      ]
    }
  ],
  "metadata": {
    "kernelspec": {
      "display_name": "Python 3.10.3 64-bit",
      "language": "python",
      "name": "python3"
    },
    "language_info": {
      "codemirror_mode": {
        "name": "ipython",
        "version": 3
      },
      "file_extension": ".py",
      "mimetype": "text/x-python",
      "name": "python",
      "nbconvert_exporter": "python",
      "pygments_lexer": "ipython3",
      "version": "3.10.3"
    },
    "orig_nbformat": 4,
    "vscode": {
      "interpreter": {
        "hash": "f7fa14ff42d06b812b88d9213b0afdb81f274e147c03716f6716e2daf21f8d93"
      }
    },
    "colab": {
      "provenance": []
    }
  },
  "nbformat": 4,
  "nbformat_minor": 0
}